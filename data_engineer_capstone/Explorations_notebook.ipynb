{
 "cells": [
  {
   "cell_type": "markdown",
   "metadata": {},
   "source": [
    "### Data Engineering Capstone"
   ]
  },
  {
   "cell_type": "markdown",
   "metadata": {},
   "source": [
    "### Project Summary\n",
    "\n",
    "* This project aims to build datawarehouse (star schema) consists fact table and dimensions tables to be able to make far analysis and reporting and dashboards. \n",
    "    * so we can answer a questions like which product category has a large number of orders due to specified year?\n",
    "    * how reviews can affect in product selling? etc..\n",
    "* I've userd Ecommerce data by Olist store what I've liked that is real commercial data, has a 100k orders and also a wide range of time for better analysis from 2016 to 2018.\n",
    "* Data URL: https://www.kaggle.com/datasets/olistbr/brazilian-ecommerce?resource=download\n",
    "* Using Apache spark for processing and handling data cleaning and writing data final output in a files (parquet)."
   ]
  },
  {
   "cell_type": "markdown",
   "metadata": {},
   "source": [
    "### Data dictionary:- \n",
    "\n",
    "* olist_customers_dataset.csv --> This dataset has information about the customer and its location\n",
    "* olist_order_items_dataset.csv --> This dataset includes data about the items purchased within each order.\n",
    "* olist_order_payments_dataset.csv --> This dataset includes data about the orders payment options.\n",
    "* olist_order_reviews_dataset.csv --> This dataset includes data about the reviews made by the customers.\n",
    "* olist_orders_dataset.csv --> This is the core dataset.\n",
    "* olist_products_dataset.csv --> This dataset includes data about the products sold by Olist.\n",
    "* olist_sellers_dataset.csv --> This dataset includes data about the sellers that fulfilled orders made at Olist.\n",
    "* product_category_name_translation.csv --> Category Name Translation to ENG"
   ]
  },
  {
   "cell_type": "code",
   "execution_count": 11,
   "metadata": {},
   "outputs": [],
   "source": [
    "## Imports\n",
    "import psycopg2\n",
    "import psycopg2\n",
    "import configparser\n",
    "import os\n",
    "import pandas as pd \n",
    "from pyspark.sql import SparkSession\n",
    "from helper_functions import get_number_of_nulls_in_df,drop_columns_from_df,check_duplicate_of_column,add_surrogate_key_to_df"
   ]
  },
  {
   "cell_type": "markdown",
   "metadata": {},
   "source": [
    "### Creating Spark Session"
   ]
  },
  {
   "cell_type": "code",
   "execution_count": 2,
   "metadata": {},
   "outputs": [
    {
     "data": {
      "text/html": [
       "\n",
       "            <div>\n",
       "                <p><b>SparkSession - in-memory</b></p>\n",
       "                \n",
       "        <div>\n",
       "            <p><b>SparkContext</b></p>\n",
       "\n",
       "            <p><a href=\"http://192.168.1.5:4040\">Spark UI</a></p>\n",
       "\n",
       "            <dl>\n",
       "              <dt>Version</dt>\n",
       "                <dd><code>v3.3.1</code></dd>\n",
       "              <dt>Master</dt>\n",
       "                <dd><code>local[*]</code></dd>\n",
       "              <dt>AppName</dt>\n",
       "                <dd><code>processing_Ecommerce_data</code></dd>\n",
       "            </dl>\n",
       "        </div>\n",
       "        \n",
       "            </div>\n",
       "        "
      ],
      "text/plain": [
       "<pyspark.sql.session.SparkSession at 0x1eb583101d0>"
      ]
     },
     "execution_count": 2,
     "metadata": {},
     "output_type": "execute_result"
    }
   ],
   "source": [
    "spark = SparkSession.builder.appName(\"processing_Ecommerce_data\").config(\"spark.sql.caseSensitive\", \"True\").getOrCreate()\n",
    "spark"
   ]
  },
  {
   "cell_type": "code",
   "execution_count": 3,
   "metadata": {},
   "outputs": [],
   "source": [
    "\n",
    "config = configparser.ConfigParser()\n",
    "config.read('config.cfg')\n",
    "\n",
    "# os.environ['AWS_ACCESS_KEY_ID']=config['aws']['AWS_ACCESS_KEY_ID']\n",
    "# os.environ['AWS_SECRET_ACCESS_KEY']=config['aws']['AWS_SECRET_ACCESS_KEY']\n",
    "\n",
    "\n",
    "def create_spark_session():\n",
    "    spark = SparkSession \\\n",
    "        .builder \\\n",
    "        .config(\"spark.jars.packages\", \"org.apache.hadoop:hadoop-aws:2.7.0\") \\\n",
    "        .getOrCreate()\n",
    "    return spark\n",
    "\n"
   ]
  },
  {
   "cell_type": "code",
   "execution_count": 5,
   "metadata": {},
   "outputs": [],
   "source": [
    "# spark._jsc.hadoopConfiguration().set(\"fs.s3.awsAccessKeyId\", config['aws']['AWS_ACCESS_KEY_ID'])\n",
    "# spark._jsc.hadoopConfiguration().set(\"fs.s3.awsSecretAccessKey\", config['aws']['AWS_SECRET_ACCESS_KEY'])"
   ]
  },
  {
   "cell_type": "markdown",
   "metadata": {},
   "source": [
    "### Defining Data paths"
   ]
  },
  {
   "cell_type": "code",
   "execution_count": 7,
   "metadata": {},
   "outputs": [],
   "source": [
    "customers = spark.read.csv('data//olist_customers_dataset.csv',header=True)\n",
    "orderItem = spark.read.csv('data//olist_order_items_dataset.csv',header=True)\n",
    "orderPayments = spark.read.csv('data//olist_order_payments_dataset.csv',header=True)\n",
    "orderReview = spark.read.csv('data//olist_order_reviews_dataset.csv',header=True)\n",
    "orders = spark.read.csv('data//olist_orders_dataset.csv',header=True)\n",
    "products = spark.read.csv('data//olist_products_dataset.csv',header=True)\n",
    "sellers = spark.read.csv('data//olist_sellers_dataset.csv',header=True)\n",
    "translations = spark.read.csv('data//product_category_name_translation.csv',header=True)"
   ]
  },
  {
   "cell_type": "code",
   "execution_count": 9,
   "metadata": {},
   "outputs": [
    {
     "data": {
      "text/plain": [
       "'e:\\\\Data Engineering NanoDegree Udacity\\\\Git\\\\dataEngineering_nanoDegree\\\\data_engineer_capstone'"
      ]
     },
     "execution_count": 9,
     "metadata": {},
     "output_type": "execute_result"
    }
   ],
   "source": [
    "os.getcwd()"
   ]
  },
  {
   "cell_type": "markdown",
   "metadata": {},
   "source": [
    "___\n",
    "## Step 1: Scope the Project and Gather Data\n",
    "___"
   ]
  },
  {
   "cell_type": "markdown",
   "metadata": {},
   "source": [
    "First we've to explore the datasets that we have, all data coming from kaggle."
   ]
  },
  {
   "cell_type": "markdown",
   "metadata": {},
   "source": [
    "#### Customers\n",
    "___"
   ]
  },
  {
   "cell_type": "code",
   "execution_count": 17,
   "metadata": {},
   "outputs": [
    {
     "data": {
      "text/html": [
       "<div>\n",
       "<style scoped>\n",
       "    .dataframe tbody tr th:only-of-type {\n",
       "        vertical-align: middle;\n",
       "    }\n",
       "\n",
       "    .dataframe tbody tr th {\n",
       "        vertical-align: top;\n",
       "    }\n",
       "\n",
       "    .dataframe thead th {\n",
       "        text-align: right;\n",
       "    }\n",
       "</style>\n",
       "<table border=\"1\" class=\"dataframe\">\n",
       "  <thead>\n",
       "    <tr style=\"text-align: right;\">\n",
       "      <th></th>\n",
       "      <th>customer_id</th>\n",
       "      <th>customer_unique_id</th>\n",
       "      <th>customer_zip_code_prefix</th>\n",
       "      <th>customer_city</th>\n",
       "      <th>customer_state</th>\n",
       "    </tr>\n",
       "  </thead>\n",
       "  <tbody>\n",
       "    <tr>\n",
       "      <th>0</th>\n",
       "      <td>06b8999e2fba1a1fbc88172c00ba8bc7</td>\n",
       "      <td>861eff4711a542e4b93843c6dd7febb0</td>\n",
       "      <td>14409</td>\n",
       "      <td>franca</td>\n",
       "      <td>SP</td>\n",
       "    </tr>\n",
       "    <tr>\n",
       "      <th>1</th>\n",
       "      <td>18955e83d337fd6b2def6b18a428ac77</td>\n",
       "      <td>290c77bc529b7ac935b93aa66c333dc3</td>\n",
       "      <td>09790</td>\n",
       "      <td>sao bernardo do campo</td>\n",
       "      <td>SP</td>\n",
       "    </tr>\n",
       "    <tr>\n",
       "      <th>2</th>\n",
       "      <td>4e7b3e00288586ebd08712fdd0374a03</td>\n",
       "      <td>060e732b5b29e8181a18229c7b0b2b5e</td>\n",
       "      <td>01151</td>\n",
       "      <td>sao paulo</td>\n",
       "      <td>SP</td>\n",
       "    </tr>\n",
       "    <tr>\n",
       "      <th>3</th>\n",
       "      <td>b2b6027bc5c5109e529d4dc6358b12c3</td>\n",
       "      <td>259dac757896d24d7702b9acbbff3f3c</td>\n",
       "      <td>08775</td>\n",
       "      <td>mogi das cruzes</td>\n",
       "      <td>SP</td>\n",
       "    </tr>\n",
       "    <tr>\n",
       "      <th>4</th>\n",
       "      <td>4f2d8ab171c80ec8364f7c12e35b23ad</td>\n",
       "      <td>345ecd01c38d18a9036ed96c73b8d066</td>\n",
       "      <td>13056</td>\n",
       "      <td>campinas</td>\n",
       "      <td>SP</td>\n",
       "    </tr>\n",
       "  </tbody>\n",
       "</table>\n",
       "</div>"
      ],
      "text/plain": [
       "                        customer_id                customer_unique_id  \\\n",
       "0  06b8999e2fba1a1fbc88172c00ba8bc7  861eff4711a542e4b93843c6dd7febb0   \n",
       "1  18955e83d337fd6b2def6b18a428ac77  290c77bc529b7ac935b93aa66c333dc3   \n",
       "2  4e7b3e00288586ebd08712fdd0374a03  060e732b5b29e8181a18229c7b0b2b5e   \n",
       "3  b2b6027bc5c5109e529d4dc6358b12c3  259dac757896d24d7702b9acbbff3f3c   \n",
       "4  4f2d8ab171c80ec8364f7c12e35b23ad  345ecd01c38d18a9036ed96c73b8d066   \n",
       "\n",
       "  customer_zip_code_prefix          customer_city customer_state  \n",
       "0                    14409                 franca             SP  \n",
       "1                    09790  sao bernardo do campo             SP  \n",
       "2                    01151              sao paulo             SP  \n",
       "3                    08775        mogi das cruzes             SP  \n",
       "4                    13056               campinas             SP  "
      ]
     },
     "execution_count": 17,
     "metadata": {},
     "output_type": "execute_result"
    }
   ],
   "source": [
    "customers.limit(5).toPandas()"
   ]
  },
  {
   "cell_type": "markdown",
   "metadata": {},
   "source": [
    "<b><i>customers data</i></b>\n",
    "\n",
    "<table class=\"tg\" align=\"left\">\n",
    "  <tr>\n",
    "    <th class=\"tg-0pky\">Column</th>\n",
    "    <th class=\"tg-0pky\">Description</th>\n",
    "  </tr>\n",
    " <tr><td class=\"tg-0pky\">customer_id</td><td class=\"tg-0pky\">customer id</td>\n",
    " <tr><td class=\"tg-0pky\">customer_unique_id</td><td class=\"tg-0pky\">unique customer id accross all data</td>\n",
    " <tr><td class=\"tg-0pky\">customer_zip_code_prefix</td><td class=\"tg-0pky\">zip code</td>\n",
    " <tr><td class=\"tg-0pky\">customer_city</td><td class=\"tg-0pky\">customer city</td>\n",
    " <tr><td class=\"tg-0pky\">customer_state</td><td class=\"tg-0pky\">customer state</td>\n",
    "</table>"
   ]
  },
  {
   "cell_type": "markdown",
   "metadata": {},
   "source": [
    "### Order Item\n",
    "___"
   ]
  },
  {
   "cell_type": "code",
   "execution_count": 18,
   "metadata": {},
   "outputs": [
    {
     "data": {
      "text/html": [
       "<div>\n",
       "<style scoped>\n",
       "    .dataframe tbody tr th:only-of-type {\n",
       "        vertical-align: middle;\n",
       "    }\n",
       "\n",
       "    .dataframe tbody tr th {\n",
       "        vertical-align: top;\n",
       "    }\n",
       "\n",
       "    .dataframe thead th {\n",
       "        text-align: right;\n",
       "    }\n",
       "</style>\n",
       "<table border=\"1\" class=\"dataframe\">\n",
       "  <thead>\n",
       "    <tr style=\"text-align: right;\">\n",
       "      <th></th>\n",
       "      <th>order_id</th>\n",
       "      <th>order_item_id</th>\n",
       "      <th>product_id</th>\n",
       "      <th>seller_id</th>\n",
       "      <th>shipping_limit_date</th>\n",
       "      <th>price</th>\n",
       "      <th>freight_value</th>\n",
       "    </tr>\n",
       "  </thead>\n",
       "  <tbody>\n",
       "    <tr>\n",
       "      <th>0</th>\n",
       "      <td>00010242fe8c5a6d1ba2dd792cb16214</td>\n",
       "      <td>1</td>\n",
       "      <td>4244733e06e7ecb4970a6e2683c13e61</td>\n",
       "      <td>48436dade18ac8b2bce089ec2a041202</td>\n",
       "      <td>2017-09-19 09:45:35</td>\n",
       "      <td>58.90</td>\n",
       "      <td>13.29</td>\n",
       "    </tr>\n",
       "    <tr>\n",
       "      <th>1</th>\n",
       "      <td>00018f77f2f0320c557190d7a144bdd3</td>\n",
       "      <td>1</td>\n",
       "      <td>e5f2d52b802189ee658865ca93d83a8f</td>\n",
       "      <td>dd7ddc04e1b6c2c614352b383efe2d36</td>\n",
       "      <td>2017-05-03 11:05:13</td>\n",
       "      <td>239.90</td>\n",
       "      <td>19.93</td>\n",
       "    </tr>\n",
       "    <tr>\n",
       "      <th>2</th>\n",
       "      <td>000229ec398224ef6ca0657da4fc703e</td>\n",
       "      <td>1</td>\n",
       "      <td>c777355d18b72b67abbeef9df44fd0fd</td>\n",
       "      <td>5b51032eddd242adc84c38acab88f23d</td>\n",
       "      <td>2018-01-18 14:48:30</td>\n",
       "      <td>199.00</td>\n",
       "      <td>17.87</td>\n",
       "    </tr>\n",
       "    <tr>\n",
       "      <th>3</th>\n",
       "      <td>00024acbcdf0a6daa1e931b038114c75</td>\n",
       "      <td>1</td>\n",
       "      <td>7634da152a4610f1595efa32f14722fc</td>\n",
       "      <td>9d7a1d34a5052409006425275ba1c2b4</td>\n",
       "      <td>2018-08-15 10:10:18</td>\n",
       "      <td>12.99</td>\n",
       "      <td>12.79</td>\n",
       "    </tr>\n",
       "    <tr>\n",
       "      <th>4</th>\n",
       "      <td>00042b26cf59d7ce69dfabb4e55b4fd9</td>\n",
       "      <td>1</td>\n",
       "      <td>ac6c3623068f30de03045865e4e10089</td>\n",
       "      <td>df560393f3a51e74553ab94004ba5c87</td>\n",
       "      <td>2017-02-13 13:57:51</td>\n",
       "      <td>199.90</td>\n",
       "      <td>18.14</td>\n",
       "    </tr>\n",
       "  </tbody>\n",
       "</table>\n",
       "</div>"
      ],
      "text/plain": [
       "                           order_id order_item_id  \\\n",
       "0  00010242fe8c5a6d1ba2dd792cb16214             1   \n",
       "1  00018f77f2f0320c557190d7a144bdd3             1   \n",
       "2  000229ec398224ef6ca0657da4fc703e             1   \n",
       "3  00024acbcdf0a6daa1e931b038114c75             1   \n",
       "4  00042b26cf59d7ce69dfabb4e55b4fd9             1   \n",
       "\n",
       "                         product_id                         seller_id  \\\n",
       "0  4244733e06e7ecb4970a6e2683c13e61  48436dade18ac8b2bce089ec2a041202   \n",
       "1  e5f2d52b802189ee658865ca93d83a8f  dd7ddc04e1b6c2c614352b383efe2d36   \n",
       "2  c777355d18b72b67abbeef9df44fd0fd  5b51032eddd242adc84c38acab88f23d   \n",
       "3  7634da152a4610f1595efa32f14722fc  9d7a1d34a5052409006425275ba1c2b4   \n",
       "4  ac6c3623068f30de03045865e4e10089  df560393f3a51e74553ab94004ba5c87   \n",
       "\n",
       "   shipping_limit_date   price freight_value  \n",
       "0  2017-09-19 09:45:35   58.90         13.29  \n",
       "1  2017-05-03 11:05:13  239.90         19.93  \n",
       "2  2018-01-18 14:48:30  199.00         17.87  \n",
       "3  2018-08-15 10:10:18   12.99         12.79  \n",
       "4  2017-02-13 13:57:51  199.90         18.14  "
      ]
     },
     "execution_count": 18,
     "metadata": {},
     "output_type": "execute_result"
    }
   ],
   "source": [
    "orderItem.limit(5).toPandas()"
   ]
  },
  {
   "cell_type": "markdown",
   "metadata": {},
   "source": [
    "<b><i>Order items data</i></b>\n",
    "\n",
    "<table class=\"tg\" align=\"left\">\n",
    "  <tr>\n",
    "    <th class=\"tg-0pky\">Column</th>\n",
    "    <th class=\"tg-0pky\">Description</th>\n",
    "  </tr>\n",
    " <tr><td class=\"tg-0pky\">order_id</td><td class=\"tg-0pky\">order id</td>\n",
    " <tr><td class=\"tg-0pky\">order_item_id</td><td class=\"tg-0pky\">unique id for each item in the order</td>\n",
    " <tr><td class=\"tg-0pky\">product_id</td><td class=\"tg-0pky\">product unique identifier</td>\n",
    " <tr><td class=\"tg-0pky\">seller_id</td><td class=\"tg-0pky\">seller unique identifier</td>\n",
    " <tr><td class=\"tg-0pky\">shipping_limit_date</td><td class=\"tg-0pky\">seller shipping limit date</td>\n",
    " <tr><td class=\"tg-0pky\">price</td><td class=\"tg-0pky\">item price</td>\n",
    " <tr><td class=\"tg-0pky\">freight_value</td><td class=\"tg-0pky\">freight</td>\n",
    "</table>"
   ]
  },
  {
   "cell_type": "markdown",
   "metadata": {},
   "source": [
    "### Order payments\n",
    "___"
   ]
  },
  {
   "cell_type": "code",
   "execution_count": 19,
   "metadata": {},
   "outputs": [
    {
     "data": {
      "text/html": [
       "<div>\n",
       "<style scoped>\n",
       "    .dataframe tbody tr th:only-of-type {\n",
       "        vertical-align: middle;\n",
       "    }\n",
       "\n",
       "    .dataframe tbody tr th {\n",
       "        vertical-align: top;\n",
       "    }\n",
       "\n",
       "    .dataframe thead th {\n",
       "        text-align: right;\n",
       "    }\n",
       "</style>\n",
       "<table border=\"1\" class=\"dataframe\">\n",
       "  <thead>\n",
       "    <tr style=\"text-align: right;\">\n",
       "      <th></th>\n",
       "      <th>order_id</th>\n",
       "      <th>payment_sequential</th>\n",
       "      <th>payment_type</th>\n",
       "      <th>payment_installments</th>\n",
       "      <th>payment_value</th>\n",
       "    </tr>\n",
       "  </thead>\n",
       "  <tbody>\n",
       "    <tr>\n",
       "      <th>0</th>\n",
       "      <td>b81ef226f3fe1789b1e8b2acac839d17</td>\n",
       "      <td>1</td>\n",
       "      <td>credit_card</td>\n",
       "      <td>8</td>\n",
       "      <td>99.33</td>\n",
       "    </tr>\n",
       "    <tr>\n",
       "      <th>1</th>\n",
       "      <td>a9810da82917af2d9aefd1278f1dcfa0</td>\n",
       "      <td>1</td>\n",
       "      <td>credit_card</td>\n",
       "      <td>1</td>\n",
       "      <td>24.39</td>\n",
       "    </tr>\n",
       "    <tr>\n",
       "      <th>2</th>\n",
       "      <td>25e8ea4e93396b6fa0d3dd708e76c1bd</td>\n",
       "      <td>1</td>\n",
       "      <td>credit_card</td>\n",
       "      <td>1</td>\n",
       "      <td>65.71</td>\n",
       "    </tr>\n",
       "    <tr>\n",
       "      <th>3</th>\n",
       "      <td>ba78997921bbcdc1373bb41e913ab953</td>\n",
       "      <td>1</td>\n",
       "      <td>credit_card</td>\n",
       "      <td>8</td>\n",
       "      <td>107.78</td>\n",
       "    </tr>\n",
       "    <tr>\n",
       "      <th>4</th>\n",
       "      <td>42fdf880ba16b47b59251dd489d4441a</td>\n",
       "      <td>1</td>\n",
       "      <td>credit_card</td>\n",
       "      <td>2</td>\n",
       "      <td>128.45</td>\n",
       "    </tr>\n",
       "  </tbody>\n",
       "</table>\n",
       "</div>"
      ],
      "text/plain": [
       "                           order_id payment_sequential payment_type  \\\n",
       "0  b81ef226f3fe1789b1e8b2acac839d17                  1  credit_card   \n",
       "1  a9810da82917af2d9aefd1278f1dcfa0                  1  credit_card   \n",
       "2  25e8ea4e93396b6fa0d3dd708e76c1bd                  1  credit_card   \n",
       "3  ba78997921bbcdc1373bb41e913ab953                  1  credit_card   \n",
       "4  42fdf880ba16b47b59251dd489d4441a                  1  credit_card   \n",
       "\n",
       "  payment_installments payment_value  \n",
       "0                    8         99.33  \n",
       "1                    1         24.39  \n",
       "2                    1         65.71  \n",
       "3                    8        107.78  \n",
       "4                    2        128.45  "
      ]
     },
     "execution_count": 19,
     "metadata": {},
     "output_type": "execute_result"
    }
   ],
   "source": [
    "orderPayments.limit(5).toPandas()"
   ]
  },
  {
   "cell_type": "markdown",
   "metadata": {},
   "source": [
    "<b><i>Order payments data</i></b>\n",
    "\n",
    "<table class=\"tg\" align=\"left\">\n",
    "  <tr>\n",
    "    <th class=\"tg-0pky\">Column</th>\n",
    "    <th class=\"tg-0pky\">Description</th>\n",
    "  </tr>\n",
    " <tr><td class=\"tg-0pky\">order_id</td><td class=\"tg-0pky\">order id</td>\n",
    " <tr><td class=\"tg-0pky\">payment_sequential</td><td class=\"tg-0pky\">sequention num of payment</td>\n",
    " <tr><td class=\"tg-0pky\">payment_installments</td><td class=\"tg-0pky\">number of months to installment</td>\n",
    " <tr><td class=\"tg-0pky\">payment_value</td><td class=\"tg-0pky\">Value or amount of payment</td>\n",
    "</table>"
   ]
  },
  {
   "cell_type": "markdown",
   "metadata": {},
   "source": [
    "### Order Reviews data\n",
    "___"
   ]
  },
  {
   "cell_type": "code",
   "execution_count": 20,
   "metadata": {},
   "outputs": [
    {
     "data": {
      "text/html": [
       "<div>\n",
       "<style scoped>\n",
       "    .dataframe tbody tr th:only-of-type {\n",
       "        vertical-align: middle;\n",
       "    }\n",
       "\n",
       "    .dataframe tbody tr th {\n",
       "        vertical-align: top;\n",
       "    }\n",
       "\n",
       "    .dataframe thead th {\n",
       "        text-align: right;\n",
       "    }\n",
       "</style>\n",
       "<table border=\"1\" class=\"dataframe\">\n",
       "  <thead>\n",
       "    <tr style=\"text-align: right;\">\n",
       "      <th></th>\n",
       "      <th>review_id</th>\n",
       "      <th>order_id</th>\n",
       "      <th>review_score</th>\n",
       "      <th>review_comment_title</th>\n",
       "      <th>review_comment_message</th>\n",
       "      <th>review_creation_date</th>\n",
       "      <th>review_answer_timestamp</th>\n",
       "    </tr>\n",
       "  </thead>\n",
       "  <tbody>\n",
       "    <tr>\n",
       "      <th>0</th>\n",
       "      <td>7bc2406110b926393aa56f80a40eba40</td>\n",
       "      <td>73fc7af87114b39712e6da79b0a377eb</td>\n",
       "      <td>4</td>\n",
       "      <td>None</td>\n",
       "      <td>None</td>\n",
       "      <td>2018-01-18 00:00:00</td>\n",
       "      <td>2018-01-18 21:46:59</td>\n",
       "    </tr>\n",
       "    <tr>\n",
       "      <th>1</th>\n",
       "      <td>80e641a11e56f04c1ad469d5645fdfde</td>\n",
       "      <td>a548910a1c6147796b98fdf73dbeba33</td>\n",
       "      <td>5</td>\n",
       "      <td>None</td>\n",
       "      <td>None</td>\n",
       "      <td>2018-03-10 00:00:00</td>\n",
       "      <td>2018-03-11 03:05:13</td>\n",
       "    </tr>\n",
       "    <tr>\n",
       "      <th>2</th>\n",
       "      <td>228ce5500dc1d8e020d8d1322874b6f0</td>\n",
       "      <td>f9e4b658b201a9f2ecdecbb34bed034b</td>\n",
       "      <td>5</td>\n",
       "      <td>None</td>\n",
       "      <td>None</td>\n",
       "      <td>2018-02-17 00:00:00</td>\n",
       "      <td>2018-02-18 14:36:24</td>\n",
       "    </tr>\n",
       "    <tr>\n",
       "      <th>3</th>\n",
       "      <td>e64fb393e7b32834bb789ff8bb30750e</td>\n",
       "      <td>658677c97b385a9be170737859d3511b</td>\n",
       "      <td>5</td>\n",
       "      <td>None</td>\n",
       "      <td>Recebi bem antes do prazo estipulado.</td>\n",
       "      <td>2017-04-21 00:00:00</td>\n",
       "      <td>2017-04-21 22:02:06</td>\n",
       "    </tr>\n",
       "    <tr>\n",
       "      <th>4</th>\n",
       "      <td>f7c4243c7fe1938f181bec41a392bdeb</td>\n",
       "      <td>8e6bfb81e283fa7e4f11123a3fb894f1</td>\n",
       "      <td>5</td>\n",
       "      <td>None</td>\n",
       "      <td>Parabéns lojas lannister adorei comprar pela I...</td>\n",
       "      <td>2018-03-01 00:00:00</td>\n",
       "      <td>2018-03-02 10:26:53</td>\n",
       "    </tr>\n",
       "  </tbody>\n",
       "</table>\n",
       "</div>"
      ],
      "text/plain": [
       "                          review_id                          order_id  \\\n",
       "0  7bc2406110b926393aa56f80a40eba40  73fc7af87114b39712e6da79b0a377eb   \n",
       "1  80e641a11e56f04c1ad469d5645fdfde  a548910a1c6147796b98fdf73dbeba33   \n",
       "2  228ce5500dc1d8e020d8d1322874b6f0  f9e4b658b201a9f2ecdecbb34bed034b   \n",
       "3  e64fb393e7b32834bb789ff8bb30750e  658677c97b385a9be170737859d3511b   \n",
       "4  f7c4243c7fe1938f181bec41a392bdeb  8e6bfb81e283fa7e4f11123a3fb894f1   \n",
       "\n",
       "  review_score review_comment_title  \\\n",
       "0            4                 None   \n",
       "1            5                 None   \n",
       "2            5                 None   \n",
       "3            5                 None   \n",
       "4            5                 None   \n",
       "\n",
       "                              review_comment_message review_creation_date  \\\n",
       "0                                               None  2018-01-18 00:00:00   \n",
       "1                                               None  2018-03-10 00:00:00   \n",
       "2                                               None  2018-02-17 00:00:00   \n",
       "3              Recebi bem antes do prazo estipulado.  2017-04-21 00:00:00   \n",
       "4  Parabéns lojas lannister adorei comprar pela I...  2018-03-01 00:00:00   \n",
       "\n",
       "  review_answer_timestamp  \n",
       "0     2018-01-18 21:46:59  \n",
       "1     2018-03-11 03:05:13  \n",
       "2     2018-02-18 14:36:24  \n",
       "3     2017-04-21 22:02:06  \n",
       "4     2018-03-02 10:26:53  "
      ]
     },
     "execution_count": 20,
     "metadata": {},
     "output_type": "execute_result"
    }
   ],
   "source": [
    "orderReview.limit(5).toPandas()"
   ]
  },
  {
   "cell_type": "markdown",
   "metadata": {},
   "source": [
    "<b><i>Order Reviews data</i></b>\n",
    "\n",
    "<table class=\"tg\" align=\"left\">\n",
    "  <tr>\n",
    "    <th class=\"tg-0pky\">Column</th>\n",
    "    <th class=\"tg-0pky\">Description</th>\n",
    "  </tr>\n",
    " <tr><td class=\"tg-0pky\">review_id</td><td class=\"tg-0pky\">unique review identifier</td>\n",
    " <tr><td class=\"tg-0pky\">order_id</td><td class=\"tg-0pky\">unique order identifier</td>\n",
    " <tr><td class=\"tg-0pky\">review_score</td><td class=\"tg-0pky\"> 1 to 5 given satisfaction survey</td>\n",
    " <tr><td class=\"tg-0pky\">review_comment_title</td><td class=\"tg-0pky\">Comment title</td>\n",
    " <tr><td class=\"tg-0pky\">review_comment_message</td><td class=\"tg-0pky\">Comment message</td>\n",
    " <tr><td class=\"tg-0pky\">review_creation_date</td><td class=\"tg-0pky\">date satisfaction survey sent to customer</td>\n",
    " <tr><td class=\"tg-0pky\">review_answer_timestamp</td><td class=\"tg-0pky\">satisfaction survey answer timestamp</td>\n",
    "</table>"
   ]
  },
  {
   "cell_type": "markdown",
   "metadata": {},
   "source": [
    "### Order data\n",
    "___"
   ]
  },
  {
   "cell_type": "code",
   "execution_count": 21,
   "metadata": {},
   "outputs": [
    {
     "data": {
      "text/html": [
       "<div>\n",
       "<style scoped>\n",
       "    .dataframe tbody tr th:only-of-type {\n",
       "        vertical-align: middle;\n",
       "    }\n",
       "\n",
       "    .dataframe tbody tr th {\n",
       "        vertical-align: top;\n",
       "    }\n",
       "\n",
       "    .dataframe thead th {\n",
       "        text-align: right;\n",
       "    }\n",
       "</style>\n",
       "<table border=\"1\" class=\"dataframe\">\n",
       "  <thead>\n",
       "    <tr style=\"text-align: right;\">\n",
       "      <th></th>\n",
       "      <th>order_id</th>\n",
       "      <th>customer_id</th>\n",
       "      <th>order_status</th>\n",
       "      <th>order_purchase_timestamp</th>\n",
       "      <th>order_approved_at</th>\n",
       "      <th>order_delivered_carrier_date</th>\n",
       "      <th>order_delivered_customer_date</th>\n",
       "      <th>order_estimated_delivery_date</th>\n",
       "    </tr>\n",
       "  </thead>\n",
       "  <tbody>\n",
       "    <tr>\n",
       "      <th>0</th>\n",
       "      <td>e481f51cbdc54678b7cc49136f2d6af7</td>\n",
       "      <td>9ef432eb6251297304e76186b10a928d</td>\n",
       "      <td>delivered</td>\n",
       "      <td>2017-10-02 10:56:33</td>\n",
       "      <td>2017-10-02 11:07:15</td>\n",
       "      <td>2017-10-04 19:55:00</td>\n",
       "      <td>2017-10-10 21:25:13</td>\n",
       "      <td>2017-10-18 00:00:00</td>\n",
       "    </tr>\n",
       "    <tr>\n",
       "      <th>1</th>\n",
       "      <td>53cdb2fc8bc7dce0b6741e2150273451</td>\n",
       "      <td>b0830fb4747a6c6d20dea0b8c802d7ef</td>\n",
       "      <td>delivered</td>\n",
       "      <td>2018-07-24 20:41:37</td>\n",
       "      <td>2018-07-26 03:24:27</td>\n",
       "      <td>2018-07-26 14:31:00</td>\n",
       "      <td>2018-08-07 15:27:45</td>\n",
       "      <td>2018-08-13 00:00:00</td>\n",
       "    </tr>\n",
       "    <tr>\n",
       "      <th>2</th>\n",
       "      <td>47770eb9100c2d0c44946d9cf07ec65d</td>\n",
       "      <td>41ce2a54c0b03bf3443c3d931a367089</td>\n",
       "      <td>delivered</td>\n",
       "      <td>2018-08-08 08:38:49</td>\n",
       "      <td>2018-08-08 08:55:23</td>\n",
       "      <td>2018-08-08 13:50:00</td>\n",
       "      <td>2018-08-17 18:06:29</td>\n",
       "      <td>2018-09-04 00:00:00</td>\n",
       "    </tr>\n",
       "    <tr>\n",
       "      <th>3</th>\n",
       "      <td>949d5b44dbf5de918fe9c16f97b45f8a</td>\n",
       "      <td>f88197465ea7920adcdbec7375364d82</td>\n",
       "      <td>delivered</td>\n",
       "      <td>2017-11-18 19:28:06</td>\n",
       "      <td>2017-11-18 19:45:59</td>\n",
       "      <td>2017-11-22 13:39:59</td>\n",
       "      <td>2017-12-02 00:28:42</td>\n",
       "      <td>2017-12-15 00:00:00</td>\n",
       "    </tr>\n",
       "    <tr>\n",
       "      <th>4</th>\n",
       "      <td>ad21c59c0840e6cb83a9ceb5573f8159</td>\n",
       "      <td>8ab97904e6daea8866dbdbc4fb7aad2c</td>\n",
       "      <td>delivered</td>\n",
       "      <td>2018-02-13 21:18:39</td>\n",
       "      <td>2018-02-13 22:20:29</td>\n",
       "      <td>2018-02-14 19:46:34</td>\n",
       "      <td>2018-02-16 18:17:02</td>\n",
       "      <td>2018-02-26 00:00:00</td>\n",
       "    </tr>\n",
       "  </tbody>\n",
       "</table>\n",
       "</div>"
      ],
      "text/plain": [
       "                           order_id                       customer_id  \\\n",
       "0  e481f51cbdc54678b7cc49136f2d6af7  9ef432eb6251297304e76186b10a928d   \n",
       "1  53cdb2fc8bc7dce0b6741e2150273451  b0830fb4747a6c6d20dea0b8c802d7ef   \n",
       "2  47770eb9100c2d0c44946d9cf07ec65d  41ce2a54c0b03bf3443c3d931a367089   \n",
       "3  949d5b44dbf5de918fe9c16f97b45f8a  f88197465ea7920adcdbec7375364d82   \n",
       "4  ad21c59c0840e6cb83a9ceb5573f8159  8ab97904e6daea8866dbdbc4fb7aad2c   \n",
       "\n",
       "  order_status order_purchase_timestamp    order_approved_at  \\\n",
       "0    delivered      2017-10-02 10:56:33  2017-10-02 11:07:15   \n",
       "1    delivered      2018-07-24 20:41:37  2018-07-26 03:24:27   \n",
       "2    delivered      2018-08-08 08:38:49  2018-08-08 08:55:23   \n",
       "3    delivered      2017-11-18 19:28:06  2017-11-18 19:45:59   \n",
       "4    delivered      2018-02-13 21:18:39  2018-02-13 22:20:29   \n",
       "\n",
       "  order_delivered_carrier_date order_delivered_customer_date  \\\n",
       "0          2017-10-04 19:55:00           2017-10-10 21:25:13   \n",
       "1          2018-07-26 14:31:00           2018-08-07 15:27:45   \n",
       "2          2018-08-08 13:50:00           2018-08-17 18:06:29   \n",
       "3          2017-11-22 13:39:59           2017-12-02 00:28:42   \n",
       "4          2018-02-14 19:46:34           2018-02-16 18:17:02   \n",
       "\n",
       "  order_estimated_delivery_date  \n",
       "0           2017-10-18 00:00:00  \n",
       "1           2018-08-13 00:00:00  \n",
       "2           2018-09-04 00:00:00  \n",
       "3           2017-12-15 00:00:00  \n",
       "4           2018-02-26 00:00:00  "
      ]
     },
     "execution_count": 21,
     "metadata": {},
     "output_type": "execute_result"
    }
   ],
   "source": [
    "orders.limit(5).toPandas()"
   ]
  },
  {
   "cell_type": "markdown",
   "metadata": {},
   "source": [
    "<b><i>Order data</i></b>\n",
    "\n",
    "<table class=\"tg\" align=\"left\">\n",
    "  <tr>\n",
    "    <th class=\"tg-0pky\">Column</th>\n",
    "    <th class=\"tg-0pky\">Description</th>\n",
    "  </tr>\n",
    " <tr><td class=\"tg-0pky\">order_id</td><td class=\"tg-0pky\">unique identifier of the order.</td>\n",
    " <tr><td class=\"tg-0pky\">customer_id</td><td class=\"tg-0pky\">Each order has a unique customer_id</td>\n",
    " <tr><td class=\"tg-0pky\">order_status</td><td class=\"tg-0pky\">Reference to the order status (delivered, shipped, etc).</td>\n",
    " <tr><td class=\"tg-0pky\">order_purchase_timestamp</td><td class=\"tg-0pky\">Shows the purchase timestamp.</td>\n",
    " <tr><td class=\"tg-0pky\">order_approved_at</td><td class=\"tg-0pky\"> payment approval timestamp.</td>\n",
    " <tr><td class=\"tg-0pky\">order_delivered_carrier_date</td><td class=\"tg-0pky\">order posting timestamp</td>\n",
    " <tr><td class=\"tg-0pky\">order_delivered_customer_date</td><td class=\"tg-0pky\">Shows the actual order delivery date to the customer</td>\n",
    " <tr><td class=\"tg-0pky\">order_estimated_delivery_date</td><td class=\"tg-0pky\">Shows the estimated delivery date</td>\n",
    "</table>"
   ]
  },
  {
   "cell_type": "markdown",
   "metadata": {},
   "source": [
    "### products\n",
    "___"
   ]
  },
  {
   "cell_type": "code",
   "execution_count": 22,
   "metadata": {},
   "outputs": [
    {
     "data": {
      "text/html": [
       "<div>\n",
       "<style scoped>\n",
       "    .dataframe tbody tr th:only-of-type {\n",
       "        vertical-align: middle;\n",
       "    }\n",
       "\n",
       "    .dataframe tbody tr th {\n",
       "        vertical-align: top;\n",
       "    }\n",
       "\n",
       "    .dataframe thead th {\n",
       "        text-align: right;\n",
       "    }\n",
       "</style>\n",
       "<table border=\"1\" class=\"dataframe\">\n",
       "  <thead>\n",
       "    <tr style=\"text-align: right;\">\n",
       "      <th></th>\n",
       "      <th>product_id</th>\n",
       "      <th>product_category_name</th>\n",
       "      <th>product_name_lenght</th>\n",
       "      <th>product_description_lenght</th>\n",
       "      <th>product_photos_qty</th>\n",
       "      <th>product_weight_g</th>\n",
       "      <th>product_length_cm</th>\n",
       "      <th>product_height_cm</th>\n",
       "      <th>product_width_cm</th>\n",
       "    </tr>\n",
       "  </thead>\n",
       "  <tbody>\n",
       "    <tr>\n",
       "      <th>0</th>\n",
       "      <td>1e9e8ef04dbcff4541ed26657ea517e5</td>\n",
       "      <td>perfumaria</td>\n",
       "      <td>40</td>\n",
       "      <td>287</td>\n",
       "      <td>1</td>\n",
       "      <td>225</td>\n",
       "      <td>16</td>\n",
       "      <td>10</td>\n",
       "      <td>14</td>\n",
       "    </tr>\n",
       "    <tr>\n",
       "      <th>1</th>\n",
       "      <td>3aa071139cb16b67ca9e5dea641aaa2f</td>\n",
       "      <td>artes</td>\n",
       "      <td>44</td>\n",
       "      <td>276</td>\n",
       "      <td>1</td>\n",
       "      <td>1000</td>\n",
       "      <td>30</td>\n",
       "      <td>18</td>\n",
       "      <td>20</td>\n",
       "    </tr>\n",
       "    <tr>\n",
       "      <th>2</th>\n",
       "      <td>96bd76ec8810374ed1b65e291975717f</td>\n",
       "      <td>esporte_lazer</td>\n",
       "      <td>46</td>\n",
       "      <td>250</td>\n",
       "      <td>1</td>\n",
       "      <td>154</td>\n",
       "      <td>18</td>\n",
       "      <td>9</td>\n",
       "      <td>15</td>\n",
       "    </tr>\n",
       "    <tr>\n",
       "      <th>3</th>\n",
       "      <td>cef67bcfe19066a932b7673e239eb23d</td>\n",
       "      <td>bebes</td>\n",
       "      <td>27</td>\n",
       "      <td>261</td>\n",
       "      <td>1</td>\n",
       "      <td>371</td>\n",
       "      <td>26</td>\n",
       "      <td>4</td>\n",
       "      <td>26</td>\n",
       "    </tr>\n",
       "    <tr>\n",
       "      <th>4</th>\n",
       "      <td>9dc1a7de274444849c219cff195d0b71</td>\n",
       "      <td>utilidades_domesticas</td>\n",
       "      <td>37</td>\n",
       "      <td>402</td>\n",
       "      <td>4</td>\n",
       "      <td>625</td>\n",
       "      <td>20</td>\n",
       "      <td>17</td>\n",
       "      <td>13</td>\n",
       "    </tr>\n",
       "  </tbody>\n",
       "</table>\n",
       "</div>"
      ],
      "text/plain": [
       "                         product_id  product_category_name  \\\n",
       "0  1e9e8ef04dbcff4541ed26657ea517e5             perfumaria   \n",
       "1  3aa071139cb16b67ca9e5dea641aaa2f                  artes   \n",
       "2  96bd76ec8810374ed1b65e291975717f          esporte_lazer   \n",
       "3  cef67bcfe19066a932b7673e239eb23d                  bebes   \n",
       "4  9dc1a7de274444849c219cff195d0b71  utilidades_domesticas   \n",
       "\n",
       "  product_name_lenght product_description_lenght product_photos_qty  \\\n",
       "0                  40                        287                  1   \n",
       "1                  44                        276                  1   \n",
       "2                  46                        250                  1   \n",
       "3                  27                        261                  1   \n",
       "4                  37                        402                  4   \n",
       "\n",
       "  product_weight_g product_length_cm product_height_cm product_width_cm  \n",
       "0              225                16                10               14  \n",
       "1             1000                30                18               20  \n",
       "2              154                18                 9               15  \n",
       "3              371                26                 4               26  \n",
       "4              625                20                17               13  "
      ]
     },
     "execution_count": 22,
     "metadata": {},
     "output_type": "execute_result"
    }
   ],
   "source": [
    "products.limit(5).toPandas()"
   ]
  },
  {
   "cell_type": "markdown",
   "metadata": {},
   "source": [
    "<b><i>products data</i></b>\n",
    "\n",
    "<table class=\"tg\" align=\"left\">\n",
    "  <tr>\n",
    "    <th class=\"tg-0pky\">Column</th>\n",
    "    <th class=\"tg-0pky\">Description</th>\n",
    "  </tr>\n",
    " <tr><td class=\"tg-0pky\">product_id</td><td class=\"tg-0pky\">unique product identifier</td>\n",
    " <tr><td class=\"tg-0pky\">product_category_name</td><td class=\"tg-0pky\">root category of product</td>\n",
    " <tr><td class=\"tg-0pky\">product_name_lenght</td><td class=\"tg-0pky\">number of characters extracted from the product name</td>\n",
    " <tr><td class=\"tg-0pky\">product_description_lenght</td><td class=\"tg-0pky\">number of characters extracted from the product description.</td>\n",
    " <tr><td class=\"tg-0pky\">product_photos_qty</td><td class=\"tg-0pky\">number of product published photos</td>\n",
    " <tr><td class=\"tg-0pky\">product_weight_g</td><td class=\"tg-0pky\">product weight measured in grams.</td>\n",
    " <tr><td class=\"tg-0pky\">product_length_cm</td><td class=\"tg-0pky\">product length measured in centimeters.</td>\n",
    " <tr><td class=\"tg-0pky\">product_height_cm</td><td class=\"tg-0pky\">product height measured in centimeters.</td>\n",
    " <tr><td class=\"tg-0pky\">product_width_cm</td><td class=\"tg-0pky\">product width measured in centimeters.</td>\n",
    "</table>"
   ]
  },
  {
   "cell_type": "markdown",
   "metadata": {},
   "source": [
    "### Sellers data\n",
    "___"
   ]
  },
  {
   "cell_type": "code",
   "execution_count": 23,
   "metadata": {},
   "outputs": [
    {
     "data": {
      "text/html": [
       "<div>\n",
       "<style scoped>\n",
       "    .dataframe tbody tr th:only-of-type {\n",
       "        vertical-align: middle;\n",
       "    }\n",
       "\n",
       "    .dataframe tbody tr th {\n",
       "        vertical-align: top;\n",
       "    }\n",
       "\n",
       "    .dataframe thead th {\n",
       "        text-align: right;\n",
       "    }\n",
       "</style>\n",
       "<table border=\"1\" class=\"dataframe\">\n",
       "  <thead>\n",
       "    <tr style=\"text-align: right;\">\n",
       "      <th></th>\n",
       "      <th>seller_id</th>\n",
       "      <th>seller_zip_code_prefix</th>\n",
       "      <th>seller_city</th>\n",
       "      <th>seller_state</th>\n",
       "    </tr>\n",
       "  </thead>\n",
       "  <tbody>\n",
       "    <tr>\n",
       "      <th>0</th>\n",
       "      <td>3442f8959a84dea7ee197c632cb2df15</td>\n",
       "      <td>13023</td>\n",
       "      <td>campinas</td>\n",
       "      <td>SP</td>\n",
       "    </tr>\n",
       "    <tr>\n",
       "      <th>1</th>\n",
       "      <td>d1b65fc7debc3361ea86b5f14c68d2e2</td>\n",
       "      <td>13844</td>\n",
       "      <td>mogi guacu</td>\n",
       "      <td>SP</td>\n",
       "    </tr>\n",
       "    <tr>\n",
       "      <th>2</th>\n",
       "      <td>ce3ad9de960102d0677a81f5d0bb7b2d</td>\n",
       "      <td>20031</td>\n",
       "      <td>rio de janeiro</td>\n",
       "      <td>RJ</td>\n",
       "    </tr>\n",
       "    <tr>\n",
       "      <th>3</th>\n",
       "      <td>c0f3eea2e14555b6faeea3dd58c1b1c3</td>\n",
       "      <td>04195</td>\n",
       "      <td>sao paulo</td>\n",
       "      <td>SP</td>\n",
       "    </tr>\n",
       "    <tr>\n",
       "      <th>4</th>\n",
       "      <td>51a04a8a6bdcb23deccc82b0b80742cf</td>\n",
       "      <td>12914</td>\n",
       "      <td>braganca paulista</td>\n",
       "      <td>SP</td>\n",
       "    </tr>\n",
       "  </tbody>\n",
       "</table>\n",
       "</div>"
      ],
      "text/plain": [
       "                          seller_id seller_zip_code_prefix        seller_city  \\\n",
       "0  3442f8959a84dea7ee197c632cb2df15                  13023           campinas   \n",
       "1  d1b65fc7debc3361ea86b5f14c68d2e2                  13844         mogi guacu   \n",
       "2  ce3ad9de960102d0677a81f5d0bb7b2d                  20031     rio de janeiro   \n",
       "3  c0f3eea2e14555b6faeea3dd58c1b1c3                  04195          sao paulo   \n",
       "4  51a04a8a6bdcb23deccc82b0b80742cf                  12914  braganca paulista   \n",
       "\n",
       "  seller_state  \n",
       "0           SP  \n",
       "1           SP  \n",
       "2           RJ  \n",
       "3           SP  \n",
       "4           SP  "
      ]
     },
     "execution_count": 23,
     "metadata": {},
     "output_type": "execute_result"
    }
   ],
   "source": [
    "sellers.limit(5).toPandas()"
   ]
  },
  {
   "cell_type": "markdown",
   "metadata": {},
   "source": [
    "<b><i>sellers data</i></b>\n",
    "\n",
    "<table class=\"tg\" align=\"left\">\n",
    "  <tr>\n",
    "    <th class=\"tg-0pky\">Column</th>\n",
    "    <th class=\"tg-0pky\">Description</th>\n",
    "  </tr>\n",
    " <tr><td class=\"tg-0pky\">seller_id</td><td class=\"tg-0pky\">seller unique identifier</td>\n",
    " <tr><td class=\"tg-0pky\">seller_zip_code_prefix</td><td class=\"tg-0pky\">first 5 digits of seller zip code</td>\n",
    " <tr><td class=\"tg-0pky\">seller_city</td><td class=\"tg-0pky\">seller city name</td>\n",
    " <tr><td class=\"tg-0pky\">seller_state</td><td class=\"tg-0pky\">seller state</td>\n",
    "</table>"
   ]
  },
  {
   "cell_type": "markdown",
   "metadata": {},
   "source": [
    "### Translations lookup\n",
    "___"
   ]
  },
  {
   "cell_type": "code",
   "execution_count": 24,
   "metadata": {},
   "outputs": [
    {
     "data": {
      "text/html": [
       "<div>\n",
       "<style scoped>\n",
       "    .dataframe tbody tr th:only-of-type {\n",
       "        vertical-align: middle;\n",
       "    }\n",
       "\n",
       "    .dataframe tbody tr th {\n",
       "        vertical-align: top;\n",
       "    }\n",
       "\n",
       "    .dataframe thead th {\n",
       "        text-align: right;\n",
       "    }\n",
       "</style>\n",
       "<table border=\"1\" class=\"dataframe\">\n",
       "  <thead>\n",
       "    <tr style=\"text-align: right;\">\n",
       "      <th></th>\n",
       "      <th>product_category_name</th>\n",
       "      <th>product_category_name_english</th>\n",
       "    </tr>\n",
       "  </thead>\n",
       "  <tbody>\n",
       "    <tr>\n",
       "      <th>0</th>\n",
       "      <td>beleza_saude</td>\n",
       "      <td>health_beauty</td>\n",
       "    </tr>\n",
       "    <tr>\n",
       "      <th>1</th>\n",
       "      <td>informatica_acessorios</td>\n",
       "      <td>computers_accessories</td>\n",
       "    </tr>\n",
       "    <tr>\n",
       "      <th>2</th>\n",
       "      <td>automotivo</td>\n",
       "      <td>auto</td>\n",
       "    </tr>\n",
       "    <tr>\n",
       "      <th>3</th>\n",
       "      <td>cama_mesa_banho</td>\n",
       "      <td>bed_bath_table</td>\n",
       "    </tr>\n",
       "    <tr>\n",
       "      <th>4</th>\n",
       "      <td>moveis_decoracao</td>\n",
       "      <td>furniture_decor</td>\n",
       "    </tr>\n",
       "  </tbody>\n",
       "</table>\n",
       "</div>"
      ],
      "text/plain": [
       "    product_category_name product_category_name_english\n",
       "0            beleza_saude                 health_beauty\n",
       "1  informatica_acessorios         computers_accessories\n",
       "2              automotivo                          auto\n",
       "3         cama_mesa_banho                bed_bath_table\n",
       "4        moveis_decoracao               furniture_decor"
      ]
     },
     "execution_count": 24,
     "metadata": {},
     "output_type": "execute_result"
    }
   ],
   "source": [
    "translations.limit(5).toPandas()"
   ]
  },
  {
   "cell_type": "markdown",
   "metadata": {},
   "source": [
    "<b><i>translations lookup data</i></b>\n",
    "\n",
    "<table class=\"tg\" align=\"left\">\n",
    "  <tr>\n",
    "    <th class=\"tg-0pky\">Column</th>\n",
    "    <th class=\"tg-0pky\">Description</th>\n",
    "  </tr>\n",
    " <tr><td class=\"tg-0pky\">product_category_name</td><td class=\"tg-0pky\">category name in Portuguese</td>\n",
    " <tr><td class=\"tg-0pky\">product_category_name_english</td><td class=\"tg-0pky\">category name in English</td>\n",
    "</table>"
   ]
  },
  {
   "cell_type": "markdown",
   "metadata": {},
   "source": [
    "___\n",
    "## Step 2: Exploration of datasets (preprocessing)\n",
    "___"
   ]
  },
  {
   "cell_type": "code",
   "execution_count": 25,
   "metadata": {},
   "outputs": [
    {
     "name": "stdout",
     "output_type": "stream",
     "text": [
      "+-----------+------------------+------------------------+-------------+--------------+\n",
      "|customer_id|customer_unique_id|customer_zip_code_prefix|customer_city|customer_state|\n",
      "+-----------+------------------+------------------------+-------------+--------------+\n",
      "|      0.0 %|             0.0 %|                   0.0 %|        0.0 %|         0.0 %|\n",
      "+-----------+------------------+------------------------+-------------+--------------+\n",
      "\n"
     ]
    }
   ],
   "source": [
    "## Getting percentage of null values in each column\n",
    "def_result = get_number_of_nulls_in_df(customers)\n",
    "def_result.show()\n"
   ]
  },
  {
   "cell_type": "markdown",
   "metadata": {},
   "source": [
    "As we see in customers data has no nulls so we don't need to drop any colmns"
   ]
  },
  {
   "cell_type": "code",
   "execution_count": 26,
   "metadata": {},
   "outputs": [
    {
     "name": "stdout",
     "output_type": "stream",
     "text": [
      "+--------+-------------+----------+---------+-------------------+-----+-------------+\n",
      "|order_id|order_item_id|product_id|seller_id|shipping_limit_date|price|freight_value|\n",
      "+--------+-------------+----------+---------+-------------------+-----+-------------+\n",
      "|   0.0 %|        0.0 %|     0.0 %|    0.0 %|              0.0 %|0.0 %|        0.0 %|\n",
      "+--------+-------------+----------+---------+-------------------+-----+-------------+\n",
      "\n"
     ]
    }
   ],
   "source": [
    "## Getting percentage of null values in each column\n",
    "def_result = get_number_of_nulls_in_df(orderItem)\n",
    "def_result.show()\n"
   ]
  },
  {
   "cell_type": "markdown",
   "metadata": {},
   "source": [
    "As we see in orderItem data has no nulls so we don't need to drop any colmns"
   ]
  },
  {
   "cell_type": "code",
   "execution_count": 325,
   "metadata": {},
   "outputs": [
    {
     "name": "stdout",
     "output_type": "stream",
     "text": [
      "+--------+------------------+------------+--------------------+-------------+\n",
      "|order_id|payment_sequential|payment_type|payment_installments|payment_value|\n",
      "+--------+------------------+------------+--------------------+-------------+\n",
      "|   0.0 %|             0.0 %|       0.0 %|               0.0 %|        0.0 %|\n",
      "+--------+------------------+------------+--------------------+-------------+\n",
      "\n"
     ]
    }
   ],
   "source": [
    "## Getting percentage of null values in each column\n",
    "def_result = get_number_of_nulls_in_df(orderPayments)\n",
    "def_result.show()\n"
   ]
  },
  {
   "cell_type": "markdown",
   "metadata": {},
   "source": [
    " As we see in orderPayments data has no nulls so we don't need to drop any colmns"
   ]
  },
  {
   "cell_type": "code",
   "execution_count": 326,
   "metadata": {},
   "outputs": [
    {
     "name": "stdout",
     "output_type": "stream",
     "text": [
      "+---------+--------+------------+--------------------+----------------------+--------------------+-----------------------+\n",
      "|review_id|order_id|review_score|review_comment_title|review_comment_message|review_creation_date|review_answer_timestamp|\n",
      "+---------+--------+------------+--------------------+----------------------+--------------------+-----------------------+\n",
      "|    0.0 %|  2.15 %|      2.28 %|             88.47 %|               60.56 %|              8.41 %|                 8.43 %|\n",
      "+---------+--------+------------+--------------------+----------------------+--------------------+-----------------------+\n",
      "\n"
     ]
    }
   ],
   "source": [
    "## Getting percentage of null values in each column\n",
    "def_result = get_number_of_nulls_in_df(orderReview)\n",
    "def_result.show()\n"
   ]
  },
  {
   "cell_type": "markdown",
   "metadata": {},
   "source": [
    "* Here we see that both review_comment_title and review_comment_message have significance level of null values \n",
    "* so both of the will be dropped in our data model "
   ]
  },
  {
   "cell_type": "code",
   "execution_count": 327,
   "metadata": {},
   "outputs": [],
   "source": [
    "## Dropping null colummns\n",
    "columns_to_drop =  [\"review_comment_title\",\"review_comment_message\"] \n",
    "orderReview = drop_columns_from_df(orderReview,columns_to_drop)\n"
   ]
  },
  {
   "cell_type": "code",
   "execution_count": 328,
   "metadata": {},
   "outputs": [
    {
     "name": "stdout",
     "output_type": "stream",
     "text": [
      "+--------------------+--------------------+------------+--------------------+-----------------------+\n",
      "|           review_id|            order_id|review_score|review_creation_date|review_answer_timestamp|\n",
      "+--------------------+--------------------+------------+--------------------+-----------------------+\n",
      "|7bc2406110b926393...|73fc7af87114b3971...|           4| 2018-01-18 00:00:00|    2018-01-18 21:46:59|\n",
      "|80e641a11e56f04c1...|a548910a1c6147796...|           5| 2018-03-10 00:00:00|    2018-03-11 03:05:13|\n",
      "|228ce5500dc1d8e02...|f9e4b658b201a9f2e...|           5| 2018-02-17 00:00:00|    2018-02-18 14:36:24|\n",
      "|e64fb393e7b32834b...|658677c97b385a9be...|           5| 2017-04-21 00:00:00|    2017-04-21 22:02:06|\n",
      "|f7c4243c7fe1938f1...|8e6bfb81e283fa7e4...|           5| 2018-03-01 00:00:00|    2018-03-02 10:26:53|\n",
      "+--------------------+--------------------+------------+--------------------+-----------------------+\n",
      "only showing top 5 rows\n",
      "\n"
     ]
    }
   ],
   "source": [
    "orderReview.show(5)"
   ]
  },
  {
   "cell_type": "code",
   "execution_count": 329,
   "metadata": {},
   "outputs": [
    {
     "name": "stdout",
     "output_type": "stream",
     "text": [
      "+--------+-----------+------------+------------------------+-----------------+----------------------------+-----------------------------+-----------------------------+\n",
      "|order_id|customer_id|order_status|order_purchase_timestamp|order_approved_at|order_delivered_carrier_date|order_delivered_customer_date|order_estimated_delivery_date|\n",
      "+--------+-----------+------------+------------------------+-----------------+----------------------------+-----------------------------+-----------------------------+\n",
      "|   0.0 %|      0.0 %|       0.0 %|                   0.0 %|           0.16 %|                      1.79 %|                       2.98 %|                        0.0 %|\n",
      "+--------+-----------+------------+------------------------+-----------------+----------------------------+-----------------------------+-----------------------------+\n",
      "\n"
     ]
    }
   ],
   "source": [
    "## Getting percentage of null values in each column\n",
    "def_result = get_number_of_nulls_in_df(orders)\n",
    "def_result.show()\n"
   ]
  },
  {
   "cell_type": "markdown",
   "metadata": {},
   "source": [
    "As we see in orders data nulls data but it not significant"
   ]
  },
  {
   "cell_type": "code",
   "execution_count": 330,
   "metadata": {},
   "outputs": [
    {
     "name": "stdout",
     "output_type": "stream",
     "text": [
      "+----------+---------------------+-------------------+--------------------------+------------------+----------------+-----------------+-----------------+----------------+\n",
      "|product_id|product_category_name|product_name_lenght|product_description_lenght|product_photos_qty|product_weight_g|product_length_cm|product_height_cm|product_width_cm|\n",
      "+----------+---------------------+-------------------+--------------------------+------------------+----------------+-----------------+-----------------+----------------+\n",
      "|     0.0 %|               1.85 %|             1.85 %|                    1.85 %|            1.85 %|          0.01 %|           0.01 %|           0.01 %|          0.01 %|\n",
      "+----------+---------------------+-------------------+--------------------------+------------------+----------------+-----------------+-----------------+----------------+\n",
      "\n"
     ]
    }
   ],
   "source": [
    "## Getting percentage of null values in each column\n",
    "def_result = get_number_of_nulls_in_df(products)\n",
    "def_result.show()\n"
   ]
  },
  {
   "cell_type": "markdown",
   "metadata": {},
   "source": [
    "As we see in products data nulls data but it not significant"
   ]
  },
  {
   "cell_type": "code",
   "execution_count": 331,
   "metadata": {},
   "outputs": [
    {
     "name": "stdout",
     "output_type": "stream",
     "text": [
      "+---------+----------------------+-----------+------------+\n",
      "|seller_id|seller_zip_code_prefix|seller_city|seller_state|\n",
      "+---------+----------------------+-----------+------------+\n",
      "|    0.0 %|                 0.0 %|      0.0 %|       0.0 %|\n",
      "+---------+----------------------+-----------+------------+\n",
      "\n"
     ]
    }
   ],
   "source": [
    "## Getting percentage of null values in each column\n",
    "def_result = get_number_of_nulls_in_df(sellers)\n",
    "def_result.show()\n"
   ]
  },
  {
   "cell_type": "markdown",
   "metadata": {},
   "source": [
    "As we see in sellers data has no nulls data "
   ]
  },
  {
   "cell_type": "code",
   "execution_count": 332,
   "metadata": {},
   "outputs": [
    {
     "name": "stdout",
     "output_type": "stream",
     "text": [
      "+---------------------+-----------------------------+\n",
      "|product_category_name|product_category_name_english|\n",
      "+---------------------+-----------------------------+\n",
      "|                0.0 %|                        0.0 %|\n",
      "+---------------------+-----------------------------+\n",
      "\n"
     ]
    }
   ],
   "source": [
    "## Getting percentage of null values in each column\n",
    "def_result = get_number_of_nulls_in_df(translations)\n",
    "def_result.show()\n"
   ]
  },
  {
   "cell_type": "markdown",
   "metadata": {},
   "source": [
    "As we see in translations data has no nulls data "
   ]
  },
  {
   "cell_type": "markdown",
   "metadata": {},
   "source": [
    "* **Finally we need to check the duplicates on the primary keys of tables**\n",
    "* **If there are duplicates we drop duplicates**\n"
   ]
  },
  {
   "cell_type": "code",
   "execution_count": 333,
   "metadata": {},
   "outputs": [
    {
     "name": "stdout",
     "output_type": "stream",
     "text": [
      "Dataframe had duplicates flag :-  False\n",
      "number of dropped columns in df :-  0\n",
      "number of records before drop in df :-  99441\n",
      "number of records after drop in df :-  99441\n"
     ]
    }
   ],
   "source": [
    "customers, had_duplicates_flag,num_of_dropped_cols,counts_before_drop,counts_after_drop = check_duplicate_of_column(customers,\"customer_id\")\n",
    "print(\"Dataframe had duplicates flag :- \",had_duplicates_flag)\n",
    "print(\"number of dropped columns in df :- \",num_of_dropped_cols)\n",
    "print(\"number of records before drop in df :- \",counts_before_drop)\n",
    "print(\"number of records after drop in df :- \",counts_after_drop)"
   ]
  },
  {
   "cell_type": "code",
   "execution_count": 334,
   "metadata": {},
   "outputs": [
    {
     "name": "stdout",
     "output_type": "stream",
     "text": [
      "Dataframe had duplicates flag :-  True\n",
      "number of dropped columns in df :-  13984\n",
      "number of records before drop in df :-  112650\n",
      "number of records after drop in df :-  98666\n"
     ]
    }
   ],
   "source": [
    "orderItem, had_duplicates_flag,num_of_dropped_cols,counts_before_drop,counts_after_drop = check_duplicate_of_column(orderItem,\"order_id\")\n",
    "print(\"Dataframe had duplicates flag :- \",had_duplicates_flag)\n",
    "print(\"number of dropped columns in df :- \",num_of_dropped_cols)\n",
    "print(\"number of records before drop in df :- \",counts_before_drop)\n",
    "print(\"number of records after drop in df :- \",counts_after_drop)"
   ]
  },
  {
   "cell_type": "code",
   "execution_count": 335,
   "metadata": {},
   "outputs": [
    {
     "name": "stdout",
     "output_type": "stream",
     "text": [
      "Dataframe had duplicates flag :-  True\n",
      "number of dropped columns in df :-  4446\n",
      "number of records before drop in df :-  103886\n",
      "number of records after drop in df :-  99440\n"
     ]
    }
   ],
   "source": [
    "orderPayments, had_duplicates_flag,num_of_dropped_cols,counts_before_drop,counts_after_drop = check_duplicate_of_column(orderPayments,\"order_id\")\n",
    "print(\"Dataframe had duplicates flag :- \",had_duplicates_flag)\n",
    "print(\"number of dropped columns in df :- \",num_of_dropped_cols)\n",
    "print(\"number of records before drop in df :- \",counts_before_drop)\n",
    "print(\"number of records after drop in df :- \",counts_after_drop)"
   ]
  },
  {
   "cell_type": "code",
   "execution_count": 336,
   "metadata": {},
   "outputs": [
    {
     "name": "stdout",
     "output_type": "stream",
     "text": [
      "Dataframe had duplicates flag :-  True\n",
      "number of dropped columns in df :-  1204\n",
      "number of records before drop in df :-  104162\n",
      "number of records after drop in df :-  102958\n"
     ]
    }
   ],
   "source": [
    "orderReview, had_duplicates_flag,num_of_dropped_cols,counts_before_drop,counts_after_drop = check_duplicate_of_column(orderReview,\"review_id\")\n",
    "print(\"Dataframe had duplicates flag :- \",had_duplicates_flag)\n",
    "print(\"number of dropped columns in df :- \",num_of_dropped_cols)\n",
    "print(\"number of records before drop in df :- \",counts_before_drop)\n",
    "print(\"number of records after drop in df :- \",counts_after_drop)"
   ]
  },
  {
   "cell_type": "code",
   "execution_count": 337,
   "metadata": {},
   "outputs": [
    {
     "name": "stdout",
     "output_type": "stream",
     "text": [
      "Dataframe had duplicates flag :-  False\n",
      "number of dropped columns in df :-  0\n",
      "number of records before drop in df :-  99441\n",
      "number of records after drop in df :-  99441\n"
     ]
    }
   ],
   "source": [
    "orders, had_duplicates_flag,num_of_dropped_cols,counts_before_drop,counts_after_drop = check_duplicate_of_column(orders,\"order_id\")\n",
    "print(\"Dataframe had duplicates flag :- \",had_duplicates_flag)\n",
    "print(\"number of dropped columns in df :- \",num_of_dropped_cols)\n",
    "print(\"number of records before drop in df :- \",counts_before_drop)\n",
    "print(\"number of records after drop in df :- \",counts_after_drop)"
   ]
  },
  {
   "cell_type": "code",
   "execution_count": 338,
   "metadata": {},
   "outputs": [
    {
     "name": "stdout",
     "output_type": "stream",
     "text": [
      "Dataframe had duplicates flag :-  False\n",
      "number of dropped columns in df :-  0\n",
      "number of records before drop in df :-  32951\n",
      "number of records after drop in df :-  32951\n"
     ]
    }
   ],
   "source": [
    "products, had_duplicates_flag,num_of_dropped_cols,counts_before_drop,counts_after_drop = check_duplicate_of_column(products,\"product_id\")\n",
    "print(\"Dataframe had duplicates flag :- \",had_duplicates_flag)\n",
    "print(\"number of dropped columns in df :- \",num_of_dropped_cols)\n",
    "print(\"number of records before drop in df :- \",counts_before_drop)\n",
    "print(\"number of records after drop in df :- \",counts_after_drop)"
   ]
  },
  {
   "cell_type": "code",
   "execution_count": 339,
   "metadata": {},
   "outputs": [
    {
     "name": "stdout",
     "output_type": "stream",
     "text": [
      "Dataframe had duplicates flag :-  False\n",
      "number of dropped columns in df :-  0\n",
      "number of records before drop in df :-  3095\n",
      "number of records after drop in df :-  3095\n"
     ]
    }
   ],
   "source": [
    "sellers, had_duplicates_flag,num_of_dropped_cols,counts_before_drop,counts_after_drop = check_duplicate_of_column(sellers,\"seller_id\")\n",
    "print(\"Dataframe had duplicates flag :- \",had_duplicates_flag)\n",
    "print(\"number of dropped columns in df :- \",num_of_dropped_cols)\n",
    "print(\"number of records before drop in df :- \",counts_before_drop)\n",
    "print(\"number of records after drop in df :- \",counts_after_drop)"
   ]
  },
  {
   "cell_type": "code",
   "execution_count": 340,
   "metadata": {},
   "outputs": [
    {
     "name": "stdout",
     "output_type": "stream",
     "text": [
      "Dataframe had duplicates flag :-  False\n",
      "number of dropped columns in df :-  0\n",
      "number of records before drop in df :-  71\n",
      "number of records after drop in df :-  71\n"
     ]
    }
   ],
   "source": [
    "translations, had_duplicates_flag,num_of_dropped_cols,counts_before_drop,counts_after_drop = check_duplicate_of_column(translations,\"product_category_name\")\n",
    "print(\"Dataframe had duplicates flag :- \",had_duplicates_flag)\n",
    "print(\"number of dropped columns in df :- \",num_of_dropped_cols)\n",
    "print(\"number of records before drop in df :- \",counts_before_drop)\n",
    "print(\"number of records after drop in df :- \",counts_after_drop)"
   ]
  },
  {
   "cell_type": "markdown",
   "metadata": {},
   "source": [
    "___"
   ]
  },
  {
   "cell_type": "markdown",
   "metadata": {},
   "source": [
    "___\n",
    "## Step 3: Define the Data Model\n",
    "___"
   ]
  },
  {
   "cell_type": "markdown",
   "metadata": {},
   "source": [
    "\n",
    "#### Star Schema model:\n",
    "\n",
    "* Dimension tables:- \n",
    "    * customer_dim \n",
    "    * order_payments_dim    \n",
    "    * order_review_dim\n",
    "    * order_date_key\n",
    "    * product_dim\n",
    "    * seller_dm\n",
    "    * order_item_dim\n",
    "* Fact table:-     \n",
    "    * order_trx_fact\n",
    "\n",
    "<p align=\"center\">\n",
    "  <img src=\"images/ecommerce_data_model.png\" />\n",
    "</p>"
   ]
  },
  {
   "cell_type": "markdown",
   "metadata": {},
   "source": [
    "___\n",
    "### Step 4: Run ETL to Model the Data\n",
    "___"
   ]
  },
  {
   "cell_type": "markdown",
   "metadata": {},
   "source": [
    "#### Adding surrogate key to all dimensions table then doing the transformations on the fact table"
   ]
  },
  {
   "cell_type": "code",
   "execution_count": 341,
   "metadata": {},
   "outputs": [
    {
     "name": "stdout",
     "output_type": "stream",
     "text": [
      "+------------+--------------------+--------------------+------------------------+-------------------+--------------+\n",
      "|customer_key|         customer_id|  customer_unique_id|customer_zip_code_prefix|      customer_city|customer_state|\n",
      "+------------+--------------------+--------------------+------------------------+-------------------+--------------+\n",
      "|           0|00050bf6e01e69d5c...|e3cf594a99e810f58...|                   98700|               ijui|            RS|\n",
      "|           1|000598caf2ef41174...|7e0516b486e92ed3f...|                   35540|           oliveira|            MG|\n",
      "|           2|0013cd8e350a7cc76...|334fed5abcee3aa96...|                   03585|          sao paulo|            SP|\n",
      "|           3|0015bc9fd2d539544...|490c854539b21598c...|                   12233|sao jose dos campos|            SP|\n",
      "|           4|001f150aebb5d897f...|0f88eb431888ffb9d...|                   79031|       campo grande|            MS|\n",
      "+------------+--------------------+--------------------+------------------------+-------------------+--------------+\n",
      "only showing top 5 rows\n",
      "\n"
     ]
    }
   ],
   "source": [
    "## Creating customers dim\n",
    "customers = add_surrogate_key_to_df(customers,\"customer_key\")\n",
    "customers.show(5)"
   ]
  },
  {
   "cell_type": "code",
   "execution_count": 342,
   "metadata": {},
   "outputs": [
    {
     "name": "stdout",
     "output_type": "stream",
     "text": [
      "+-----------+--------------------+------------------+------------+--------------------+-------------+\n",
      "|payment_key|            order_id|payment_sequential|payment_type|payment_installments|payment_value|\n",
      "+-----------+--------------------+------------------+------------+--------------------+-------------+\n",
      "|          0|00018f77f2f0320c5...|                 1| credit_card|                   3|       259.83|\n",
      "|          1|00042b26cf59d7ce6...|                 1| credit_card|                   3|       218.04|\n",
      "|          2|00054e8431b9d7675...|                 1| credit_card|                   1|        31.75|\n",
      "|          3|0006ec9db01a64e59...|                 1| credit_card|                   4|        97.32|\n",
      "+-----------+--------------------+------------------+------------+--------------------+-------------+\n",
      "only showing top 4 rows\n",
      "\n"
     ]
    }
   ],
   "source": [
    "## creating order Payments dim\n",
    "orderPayments = add_surrogate_key_to_df(orderPayments,\"payment_key\")\n",
    "orderPayments.show(4)"
   ]
  },
  {
   "cell_type": "code",
   "execution_count": 343,
   "metadata": {},
   "outputs": [
    {
     "name": "stdout",
     "output_type": "stream",
     "text": [
      "+----------+--------------------+-------------------+-------------------+--------------------+-----------------------+\n",
      "|review_key|           review_id|           order_id|       review_score|review_creation_date|review_answer_timestamp|\n",
      "+----------+--------------------+-------------------+-------------------+--------------------+-----------------------+\n",
      "|         0| Ao se colocar o ...|           na CAPA |         os BOTOES | 2018-04-04 00:00:00|    2018-04-06 16:36:40|\n",
      "|         1| Gostaria que a e...|2017-09-24 00:00:00|2017-09-25 11:04:39|                null|                   null|\n",
      "|         2| Mas chegou dentr...|2018-08-10 00:00:00|2018-08-13 11:02:33|                null|                   null|\n",
      "+----------+--------------------+-------------------+-------------------+--------------------+-----------------------+\n",
      "only showing top 3 rows\n",
      "\n"
     ]
    }
   ],
   "source": [
    "## creating order Review dim\n",
    "orderReview = add_surrogate_key_to_df(orderReview,\"review_key\")\n",
    "orderReview.show(3)"
   ]
  },
  {
   "cell_type": "code",
   "execution_count": 344,
   "metadata": {},
   "outputs": [
    {
     "name": "stdout",
     "output_type": "stream",
     "text": [
      "+--------+--------------------+------------------------+-------------------+----------------------------+-----------------------------+-----------------------------+\n",
      "|date_key|            order_id|order_purchase_timestamp|  order_approved_at|order_delivered_carrier_date|order_delivered_customer_date|order_estimated_delivery_date|\n",
      "+--------+--------------------+------------------------+-------------------+----------------------------+-----------------------------+-----------------------------+\n",
      "|       0|00018f77f2f0320c5...|     2017-04-26 10:53:06|2017-04-26 11:05:13|         2017-05-04 14:35:00|          2017-05-12 16:04:24|          2017-05-15 00:00:00|\n",
      "|       1|00042b26cf59d7ce6...|     2017-02-04 13:57:51|2017-02-04 14:10:13|         2017-02-16 09:46:09|          2017-03-01 16:42:31|          2017-03-17 00:00:00|\n",
      "|       2|00054e8431b9d7675...|     2017-12-10 11:53:48|2017-12-10 12:10:31|         2017-12-12 01:07:48|          2017-12-18 22:03:38|          2018-01-04 00:00:00|\n",
      "+--------+--------------------+------------------------+-------------------+----------------------------+-----------------------------+-----------------------------+\n",
      "only showing top 3 rows\n",
      "\n"
     ]
    }
   ],
   "source": [
    "## creating order date key\n",
    "columns_to_select = [\"order_id\",\"order_purchase_timestamp\",\"order_approved_at\",\"order_delivered_carrier_date\",\"order_delivered_customer_date\",\"order_estimated_delivery_date\"]\t\n",
    "order_date_key_df = orders.select(columns_to_select)\n",
    "order_date_key_df = add_surrogate_key_to_df(order_date_key_df,\"date_key\")\n",
    "order_date_key_df.show(3)"
   ]
  },
  {
   "cell_type": "code",
   "execution_count": 345,
   "metadata": {},
   "outputs": [
    {
     "data": {
      "text/html": [
       "<div>\n",
       "<style scoped>\n",
       "    .dataframe tbody tr th:only-of-type {\n",
       "        vertical-align: middle;\n",
       "    }\n",
       "\n",
       "    .dataframe tbody tr th {\n",
       "        vertical-align: top;\n",
       "    }\n",
       "\n",
       "    .dataframe thead th {\n",
       "        text-align: right;\n",
       "    }\n",
       "</style>\n",
       "<table border=\"1\" class=\"dataframe\">\n",
       "  <thead>\n",
       "    <tr style=\"text-align: right;\">\n",
       "      <th></th>\n",
       "      <th>product_key</th>\n",
       "      <th>product_id</th>\n",
       "      <th>product_category_name</th>\n",
       "      <th>product_name_lenght</th>\n",
       "      <th>product_description_lenght</th>\n",
       "      <th>product_photos_qty</th>\n",
       "      <th>product_weight_g</th>\n",
       "      <th>product_length_cm</th>\n",
       "      <th>product_height_cm</th>\n",
       "      <th>product_width_cm</th>\n",
       "    </tr>\n",
       "  </thead>\n",
       "  <tbody>\n",
       "    <tr>\n",
       "      <th>0</th>\n",
       "      <td>0</td>\n",
       "      <td>00066f42aeeb9f3007548bb9d3f33c38</td>\n",
       "      <td>perfumaria</td>\n",
       "      <td>53</td>\n",
       "      <td>596</td>\n",
       "      <td>6</td>\n",
       "      <td>300</td>\n",
       "      <td>20</td>\n",
       "      <td>16</td>\n",
       "      <td>16</td>\n",
       "    </tr>\n",
       "    <tr>\n",
       "      <th>1</th>\n",
       "      <td>1</td>\n",
       "      <td>00088930e925c41fd95ebfe695fd2655</td>\n",
       "      <td>automotivo</td>\n",
       "      <td>56</td>\n",
       "      <td>752</td>\n",
       "      <td>4</td>\n",
       "      <td>1225</td>\n",
       "      <td>55</td>\n",
       "      <td>10</td>\n",
       "      <td>26</td>\n",
       "    </tr>\n",
       "    <tr>\n",
       "      <th>2</th>\n",
       "      <td>2</td>\n",
       "      <td>0011c512eb256aa0dbbb544d8dffcf6e</td>\n",
       "      <td>automotivo</td>\n",
       "      <td>58</td>\n",
       "      <td>177</td>\n",
       "      <td>1</td>\n",
       "      <td>100</td>\n",
       "      <td>16</td>\n",
       "      <td>15</td>\n",
       "      <td>16</td>\n",
       "    </tr>\n",
       "  </tbody>\n",
       "</table>\n",
       "</div>"
      ],
      "text/plain": [
       "   product_key                        product_id product_category_name  \\\n",
       "0            0  00066f42aeeb9f3007548bb9d3f33c38            perfumaria   \n",
       "1            1  00088930e925c41fd95ebfe695fd2655            automotivo   \n",
       "2            2  0011c512eb256aa0dbbb544d8dffcf6e            automotivo   \n",
       "\n",
       "  product_name_lenght product_description_lenght product_photos_qty  \\\n",
       "0                  53                        596                  6   \n",
       "1                  56                        752                  4   \n",
       "2                  58                        177                  1   \n",
       "\n",
       "  product_weight_g product_length_cm product_height_cm product_width_cm  \n",
       "0              300                20                16               16  \n",
       "1             1225                55                10               26  \n",
       "2              100                16                15               16  "
      ]
     },
     "execution_count": 345,
     "metadata": {},
     "output_type": "execute_result"
    }
   ],
   "source": [
    "## creating products\n",
    "products = add_surrogate_key_to_df(products,\"product_key\")\n",
    "products.limit(3).toPandas()"
   ]
  },
  {
   "cell_type": "code",
   "execution_count": 346,
   "metadata": {},
   "outputs": [
    {
     "data": {
      "text/html": [
       "<div>\n",
       "<style scoped>\n",
       "    .dataframe tbody tr th:only-of-type {\n",
       "        vertical-align: middle;\n",
       "    }\n",
       "\n",
       "    .dataframe tbody tr th {\n",
       "        vertical-align: top;\n",
       "    }\n",
       "\n",
       "    .dataframe thead th {\n",
       "        text-align: right;\n",
       "    }\n",
       "</style>\n",
       "<table border=\"1\" class=\"dataframe\">\n",
       "  <thead>\n",
       "    <tr style=\"text-align: right;\">\n",
       "      <th></th>\n",
       "      <th>seller_key</th>\n",
       "      <th>seller_id</th>\n",
       "      <th>seller_zip_code_prefix</th>\n",
       "      <th>seller_city</th>\n",
       "      <th>seller_state</th>\n",
       "    </tr>\n",
       "  </thead>\n",
       "  <tbody>\n",
       "    <tr>\n",
       "      <th>0</th>\n",
       "      <td>0</td>\n",
       "      <td>0015a82c2db000af6aaaf3ae2ecb0532</td>\n",
       "      <td>09080</td>\n",
       "      <td>santo andre</td>\n",
       "      <td>SP</td>\n",
       "    </tr>\n",
       "    <tr>\n",
       "      <th>1</th>\n",
       "      <td>1</td>\n",
       "      <td>001cca7ae9ae17fb1caed9dfb1094831</td>\n",
       "      <td>29156</td>\n",
       "      <td>cariacica</td>\n",
       "      <td>ES</td>\n",
       "    </tr>\n",
       "    <tr>\n",
       "      <th>2</th>\n",
       "      <td>2</td>\n",
       "      <td>001e6ad469a905060d959994f1b41e4f</td>\n",
       "      <td>24754</td>\n",
       "      <td>sao goncalo</td>\n",
       "      <td>RJ</td>\n",
       "    </tr>\n",
       "  </tbody>\n",
       "</table>\n",
       "</div>"
      ],
      "text/plain": [
       "   seller_key                         seller_id seller_zip_code_prefix  \\\n",
       "0           0  0015a82c2db000af6aaaf3ae2ecb0532                  09080   \n",
       "1           1  001cca7ae9ae17fb1caed9dfb1094831                  29156   \n",
       "2           2  001e6ad469a905060d959994f1b41e4f                  24754   \n",
       "\n",
       "   seller_city seller_state  \n",
       "0  santo andre           SP  \n",
       "1    cariacica           ES  \n",
       "2  sao goncalo           RJ  "
      ]
     },
     "execution_count": 346,
     "metadata": {},
     "output_type": "execute_result"
    }
   ],
   "source": [
    "## creating sellers dim\n",
    "sellers = add_surrogate_key_to_df(sellers,\"seller_key\")\n",
    "sellers.limit(3).toPandas()"
   ]
  },
  {
   "cell_type": "code",
   "execution_count": 347,
   "metadata": {},
   "outputs": [],
   "source": [
    "## creating order item dim\n",
    "cols_to_select  = [\"order_id\",\"order_item_id\",\"product_id\",\"seller_id\",\"shipping_limit_date\",\"price\"]\n",
    "order_item_df = orderItem.select(cols_to_select)\n",
    "\n",
    "order_item_df = order_item_df.join(products.select(\"product_key\",\"product_id\"),on=\"product_id\",how=\"inner\")\n",
    "order_item_df = order_item_df.join(sellers.select(\"seller_key\",\"seller_id\"),on=\"seller_id\",how=\"inner\")\n",
    "order_item_df = add_surrogate_key_to_df(order_item_df,\"order_item_key\")\n",
    "cols_to_select =  [\"order_id\",\"order_item_id\",\"product_key\",\"seller_key\"]\n",
    "order_item_dim_df = order_item_df.select(cols_to_select)"
   ]
  },
  {
   "cell_type": "code",
   "execution_count": 348,
   "metadata": {},
   "outputs": [
    {
     "data": {
      "text/html": [
       "<div>\n",
       "<style scoped>\n",
       "    .dataframe tbody tr th:only-of-type {\n",
       "        vertical-align: middle;\n",
       "    }\n",
       "\n",
       "    .dataframe tbody tr th {\n",
       "        vertical-align: top;\n",
       "    }\n",
       "\n",
       "    .dataframe thead th {\n",
       "        text-align: right;\n",
       "    }\n",
       "</style>\n",
       "<table border=\"1\" class=\"dataframe\">\n",
       "  <thead>\n",
       "    <tr style=\"text-align: right;\">\n",
       "      <th></th>\n",
       "      <th>trx_key</th>\n",
       "      <th>customer_key</th>\n",
       "      <th>payment_key</th>\n",
       "      <th>review_key</th>\n",
       "      <th>product_key</th>\n",
       "      <th>seller_key</th>\n",
       "      <th>order_item_key</th>\n",
       "      <th>date_key</th>\n",
       "      <th>price</th>\n",
       "      <th>shipping_limit_date</th>\n",
       "      <th>review_score</th>\n",
       "      <th>order_status</th>\n",
       "    </tr>\n",
       "  </thead>\n",
       "  <tbody>\n",
       "    <tr>\n",
       "      <th>0</th>\n",
       "      <td>0</td>\n",
       "      <td>9640</td>\n",
       "      <td>5483</td>\n",
       "      <td>42949686297</td>\n",
       "      <td>22062</td>\n",
       "      <td>1044</td>\n",
       "      <td>0</td>\n",
       "      <td>21644</td>\n",
       "      <td>239.90</td>\n",
       "      <td>2017-05-03 11:05:13</td>\n",
       "      <td>4</td>\n",
       "      <td>delivered</td>\n",
       "    </tr>\n",
       "    <tr>\n",
       "      <th>1</th>\n",
       "      <td>1</td>\n",
       "      <td>8589960862</td>\n",
       "      <td>5629</td>\n",
       "      <td>42949673700</td>\n",
       "      <td>3913</td>\n",
       "      <td>1719</td>\n",
       "      <td>1</td>\n",
       "      <td>26914</td>\n",
       "      <td>19.90</td>\n",
       "      <td>2017-12-14 12:10:31</td>\n",
       "      <td>4</td>\n",
       "      <td>delivered</td>\n",
       "    </tr>\n",
       "    <tr>\n",
       "      <th>2</th>\n",
       "      <td>2</td>\n",
       "      <td>17179875141</td>\n",
       "      <td>4871</td>\n",
       "      <td>25769803994</td>\n",
       "      <td>20828</td>\n",
       "      <td>87</td>\n",
       "      <td>2</td>\n",
       "      <td>26843</td>\n",
       "      <td>144.00</td>\n",
       "      <td>2018-05-16 20:57:03</td>\n",
       "      <td>1</td>\n",
       "      <td>delivered</td>\n",
       "    </tr>\n",
       "    <tr>\n",
       "      <th>3</th>\n",
       "      <td>3</td>\n",
       "      <td>17179872654</td>\n",
       "      <td>2704</td>\n",
       "      <td>17179877404</td>\n",
       "      <td>22394</td>\n",
       "      <td>614</td>\n",
       "      <td>3</td>\n",
       "      <td>20772</td>\n",
       "      <td>39.90</td>\n",
       "      <td>2018-08-17 15:04:25</td>\n",
       "      <td>1</td>\n",
       "      <td>canceled</td>\n",
       "    </tr>\n",
       "    <tr>\n",
       "      <th>4</th>\n",
       "      <td>4</td>\n",
       "      <td>7066</td>\n",
       "      <td>1135</td>\n",
       "      <td>34359741493</td>\n",
       "      <td>13370</td>\n",
       "      <td>665</td>\n",
       "      <td>4</td>\n",
       "      <td>20222</td>\n",
       "      <td>159.00</td>\n",
       "      <td>2018-03-15 19:28:51</td>\n",
       "      <td>1</td>\n",
       "      <td>delivered</td>\n",
       "    </tr>\n",
       "  </tbody>\n",
       "</table>\n",
       "</div>"
      ],
      "text/plain": [
       "   trx_key  customer_key  payment_key   review_key  product_key  seller_key  \\\n",
       "0        0          9640         5483  42949686297        22062        1044   \n",
       "1        1    8589960862         5629  42949673700         3913        1719   \n",
       "2        2   17179875141         4871  25769803994        20828          87   \n",
       "3        3   17179872654         2704  17179877404        22394         614   \n",
       "4        4          7066         1135  34359741493        13370         665   \n",
       "\n",
       "   order_item_key  date_key   price  shipping_limit_date review_score  \\\n",
       "0               0     21644  239.90  2017-05-03 11:05:13            4   \n",
       "1               1     26914   19.90  2017-12-14 12:10:31            4   \n",
       "2               2     26843  144.00  2018-05-16 20:57:03            1   \n",
       "3               3     20772   39.90  2018-08-17 15:04:25            1   \n",
       "4               4     20222  159.00  2018-03-15 19:28:51            1   \n",
       "\n",
       "  order_status  \n",
       "0    delivered  \n",
       "1    delivered  \n",
       "2    delivered  \n",
       "3     canceled  \n",
       "4    delivered  "
      ]
     },
     "execution_count": 348,
     "metadata": {},
     "output_type": "execute_result"
    }
   ],
   "source": [
    "## Creating orders_trx_fact_df fact table\n",
    "\n",
    "orders_trx_fact_df = orders.join(customers.select(\"customer_id\",\"customer_key\"),on=\"customer_id\",how=\"inner\")\\\n",
    "                            .select(\"order_id\",\"customer_key\",\"order_status\")\n",
    "orders_trx_fact_df = orders_trx_fact_df.join(orderPayments.select(\"order_id\",\"payment_key\"),on=\"order_id\",how=\"inner\")\n",
    "orders_trx_fact_df = orders_trx_fact_df.join(orderReview.select(\"order_id\",\"review_key\",\"review_score\"),on=\"order_id\",how=\"inner\")\n",
    "orders_trx_fact_df = orders_trx_fact_df.join(order_date_key_df.select(\"order_id\",\"date_key\"),on=\"order_id\",how=\"inner\")\n",
    "orders_trx_fact_df = orders_trx_fact_df.join(order_item_df.select(\"order_id\",\"order_item_key\",\"product_key\",\"seller_key\",\"price\",\"shipping_limit_date\"),on=\"order_id\",how=\"inner\")\n",
    "orders_trx_fact_df = add_surrogate_key_to_df(orders_trx_fact_df,\"trx_key\")\n",
    "\n",
    "cols_to_select = [\"trx_key\",\"customer_key\",\"payment_key\",\"review_key\",\"product_key\",\"seller_key\",\"order_item_key\",\n",
    "                    \"date_key\",\"price\",\"shipping_limit_date\",\"review_score\",\"order_status\"]\n",
    "                    \n",
    "orders_trx_fact_df  = orders_trx_fact_df.select(cols_to_select)   \n",
    "orders_trx_fact_df.limit(5).toPandas()                 \n"
   ]
  },
  {
   "cell_type": "code",
   "execution_count": 349,
   "metadata": {},
   "outputs": [
    {
     "data": {
      "text/plain": [
       "97684"
      ]
     },
     "execution_count": 349,
     "metadata": {},
     "output_type": "execute_result"
    }
   ],
   "source": [
    "orders_trx_fact_df.count()"
   ]
  },
  {
   "cell_type": "code",
   "execution_count": null,
   "metadata": {},
   "outputs": [],
   "source": [
    "output_data =config['s3']['output_path']"
   ]
  },
  {
   "cell_type": "code",
   "execution_count": null,
   "metadata": {},
   "outputs": [],
   "source": [
    "customers.write.parquet(output_data+'output_capstone/customers.parquet', 'overwrite')\n",
    "orderPayments.write.parquet(output_data+'output_capstone/orderPayments.parquet', 'overwrite')\n",
    "orderReview.write.parquet(output_data+'output_capstone/orderReview.parquet', 'overwrite')\n",
    "order_date_key_df.write.parquet(output_data+'output_capstone/order_date_key_df.parquet', 'overwrite')\n",
    "products.write.parquet(output_data+'output_capstone/products.parquet', 'overwrite')\n",
    "sellers.write.parquet(output_data+'output_capstone/sellers.parquet', 'overwrite')\n",
    "order_item_dim_df.write.parquet(output_data+'output_capstone/order_item_dim_df.parquet', 'overwrite')\n",
    "orders_trx_fact_df.write.parquet(output_data+'output_capstone/orders_trx_fact_df.parquet', 'overwrite')"
   ]
  },
  {
   "cell_type": "code",
   "execution_count": null,
   "metadata": {},
   "outputs": [],
   "source": []
  },
  {
   "cell_type": "markdown",
   "metadata": {},
   "source": [
    "## Data Quality"
   ]
  },
  {
   "cell_type": "code",
   "execution_count": null,
   "metadata": {},
   "outputs": [],
   "source": [
    "# Connect to redshift cluster directly\n",
    "\n",
    "\n",
    "conn = psycopg2.connect(\n",
    "    host='',\n",
    "    user='',\n",
    "    port='',\n",
    "    password='',\n",
    "    dbname='')"
   ]
  },
  {
   "cell_type": "code",
   "execution_count": null,
   "metadata": {},
   "outputs": [],
   "source": [
    "cur = conn.cursor()"
   ]
  },
  {
   "cell_type": "code",
   "execution_count": null,
   "metadata": {},
   "outputs": [],
   "source": [
    "cur.execute(\"SELECT COUNT(*) FROM customer_dim\")\n",
    "conn.commit()\n",
    "if cur.rowcount < 1:\n",
    "    print(\"Empty table :-  customer_dim\")\n",
    "#######################################################\n",
    "cur.execute(\"SELECT COUNT(*) FROM order_payments_dim\")\n",
    "conn.commit()\n",
    "if cur.rowcount < 1:\n",
    "    print(\"Empty table :-  order_payments_dim\")\n",
    "#######################################################\n",
    "cur.execute(\"SELECT COUNT(*) FROM order_review_dim\")\n",
    "conn.commit()\n",
    "if cur.rowcount < 1:\n",
    "    print(\"Empty table :-  order_review_dim\")\n",
    "#######################################################\n",
    "cur.execute(\"SELECT COUNT(*) FROM order_date_key_dim\")\n",
    "conn.commit()\n",
    "if cur.rowcount < 1:\n",
    "    print(\"Empty table :-  order_date_key_dim\")\n",
    "#######################################################\n",
    "cur.execute(\"SELECT COUNT(*) FROM products_dim\")\n",
    "conn.commit()\n",
    "if cur.rowcount < 1:\n",
    "    print(\"Empty table :-  products_dim\")\n",
    "#######################################################\n",
    "cur.execute(\"SELECT COUNT(*) FROM seller\")\n",
    "conn.commit()\n",
    "if cur.rowcount < 1:\n",
    "    print(\"Empty table :-  seller\")\n",
    "#######################################################\n",
    "cur.execute(\"SELECT COUNT(*) FROM order_item\")\n",
    "conn.commit()\n",
    "if cur.rowcount < 1:\n",
    "    print(\"Empty table :-  order_item\")\n",
    "#######################################################\n",
    "cur.execute(\"SELECT COUNT(*) FROM orders_trx_fact\")\n",
    "conn.commit()\n",
    "if cur.rowcount < 1:\n",
    "    print(\"Empty table :-  orders_trx_fact\")"
   ]
  },
  {
   "cell_type": "markdown",
   "metadata": {},
   "source": [
    "#### Step 5: Complete Project Write Up\n"
   ]
  },
  {
   "cell_type": "markdown",
   "metadata": {},
   "source": [
    "* I've used mainly Pyspark for processing so we can able to scale, and distribute the processing on multiple nodes (dynamically) using the configurations\n",
    "with larger data we can scale up machines, Redshift for DWH, writting final output files to S3 AWS so we can load it into the tables on redshift.\n",
    "* data is transactional so it should be daily ETL jobs running We can use Apache Airflow to schedule the jobs every 24H to run taking the file and process it then load in Redshift table, here we should partition by day so we can have history.\n",
    "What If?\n",
    "\n",
    " * The data was increased by 100x: the processing is using pyspark so we can increase number of nodes (instances) which by means scalling the cluster up.\n",
    " * The data populates a dashboard that must be updated on a daily basis by 7am every day: Using apache Airflow to do the ETL pipelines then we can create a views so it could be auto refreshed on the tables on RedShift\n",
    " * The database needed to be accessed by 100+ people: by using scalable datawarehouse like Redshift so we can scale and serve more clients."
   ]
  }
 ],
 "metadata": {
  "kernelspec": {
   "display_name": "Python 3.11.0 64-bit",
   "language": "python",
   "name": "python3"
  },
  "language_info": {
   "codemirror_mode": {
    "name": "ipython",
    "version": 3
   },
   "file_extension": ".py",
   "mimetype": "text/x-python",
   "name": "python",
   "nbconvert_exporter": "python",
   "pygments_lexer": "ipython3",
   "version": "3.11.0"
  },
  "orig_nbformat": 4,
  "vscode": {
   "interpreter": {
    "hash": "ba44a0b0a81ae79d1fa1ac5b3c373e080c7ae2ebddbdb1f2cc8b3f517fa95400"
   }
  }
 },
 "nbformat": 4,
 "nbformat_minor": 2
}
